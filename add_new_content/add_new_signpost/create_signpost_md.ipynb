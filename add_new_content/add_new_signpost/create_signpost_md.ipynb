{
 "cells": [
  {
   "cell_type": "code",
   "execution_count": null,
   "id": "2e97db29-4295-4858-8ad4-28c29fd2ef70",
   "metadata": {},
   "outputs": [],
   "source": [
    "import yaml\n",
    "import os"
   ]
  },
  {
   "cell_type": "markdown",
   "id": "fe589b66-44f6-483f-9812-00ff6460f763",
   "metadata": {},
   "source": [
    "# check if notebook or script"
   ]
  },
  {
   "cell_type": "code",
   "execution_count": null,
   "id": "4fc6f55a-1d61-40d3-b715-6106124bb6e7",
   "metadata": {},
   "outputs": [],
   "source": [
    "# Function to detect if we're running in a Jupyter notebook\n",
    "def check_if_notebook():\n",
    "    try:\n",
    "        shell_name = get_ipython().__class__.__name__\n",
    "        if shell_name == 'ZMQInteractiveShell':\n",
    "            return True   # Jupyter notebook or JupyterLab\n",
    "        elif shell_name in ['TerminalInteractiveShell', 'InteractiveShell']:\n",
    "            return False  # IPython terminal or other interactive shells\n",
    "        else:\n",
    "            # Fallback or default behavior for unidentified environments\n",
    "            return False\n",
    "    except NameError:\n",
    "        return False      # Not in IPython, likely standard Python interpreter\n",
    "\n",
    "# Use this to conditionally execute tests/debugging\n",
    "if check_if_notebook():\n",
    "    is_notebook = True\n",
    "else:\n",
    "    is_notebook = False"
   ]
  },
  {
   "cell_type": "markdown",
   "id": "32363dd8-5b02-4dc2-8a66-e583e6f6d726",
   "metadata": {},
   "source": [
    "# Define all filepaths"
   ]
  },
  {
   "cell_type": "markdown",
   "id": "8c39b031-5a00-444d-a736-2a35eb4cd956",
   "metadata": {},
   "source": [
    "## filepaths for opening input data for creation of md"
   ]
  },
  {
   "cell_type": "code",
   "execution_count": null,
   "id": "12a8345a-3b4e-4832-bfcf-0ae12ac40c39",
   "metadata": {},
   "outputs": [],
   "source": [
    "# go up until we are in the project base directory\n",
    "base_dir = os.getcwd()\n",
    "while base_dir.split('/')[-1] != 'goodbye_glaciers':\n",
    "    base_dir = os.path.normpath(os.path.join(base_dir, '..'))\n",
    "\n",
    "fp_signpost_yml = os.path.join(base_dir, 'add_new_content', 'add_new_signpost', 'signpost_yml_files')\n",
    "fp_photo_yml = os.path.join(base_dir, 'add_new_content', 'add_new_photo', 'signpost_photos_yml_files')"
   ]
  },
  {
   "cell_type": "code",
   "execution_count": null,
   "id": "86ee4908-ef83-438d-9f60-01efbc4a6e8a",
   "metadata": {},
   "outputs": [],
   "source": [
    "def get_all_signpost_yml(fp=fp_signpost_yml):\n",
    "    return [file for file in os.listdir(fp)\n",
    "            if file.split('.')[-1] == 'yml']"
   ]
  },
  {
   "cell_type": "code",
   "execution_count": null,
   "id": "9347a432-dd67-419f-9004-4b4cfae8c086",
   "metadata": {},
   "outputs": [],
   "source": [
    "def read_yml(fp):\n",
    "    with open(fp) as stream:\n",
    "        yml_content = yaml.safe_load(stream)\n",
    "    return yml_content"
   ]
  },
  {
   "cell_type": "code",
   "execution_count": null,
   "id": "e759c28e-4ba4-43f5-a48d-d9aa413c7169",
   "metadata": {},
   "outputs": [],
   "source": [
    "def check_file_exist(fp, signpost_id):\n",
    "    fp_total = f\"{base_dir}{fp}\"\n",
    "    if not os.path.exists(fp_total):\n",
    "        print(f'{signpost_id}: {fp} does not exist!')"
   ]
  },
  {
   "cell_type": "markdown",
   "id": "61223fb7-a824-4f00-8ef9-56bc5497cfd0",
   "metadata": {},
   "source": [
    "## filepaths used when deploying the website"
   ]
  },
  {
   "cell_type": "code",
   "execution_count": null,
   "id": "8d40eca6-2842-4ae5-a49f-c141f3c940de",
   "metadata": {},
   "outputs": [],
   "source": [
    "fp_signpost_photos = '/assets/images/photos_signposts/'\n",
    "fp_signpost_md = os.path.join(base_dir, '_signposts')"
   ]
  },
  {
   "cell_type": "markdown",
   "id": "5d1d1286-6253-4c81-b4f5-1d07424be992",
   "metadata": {},
   "source": [
    "# Function creating signpost markdown sites"
   ]
  },
  {
   "cell_type": "code",
   "execution_count": null,
   "id": "02a7113b-34f1-4c04-a1aa-dd0ec2deef1a",
   "metadata": {},
   "outputs": [],
   "source": [
    "def create_signpost_markdown(signpost_yml):\n",
    "\n",
    "    # start creating markdown\n",
    "    markdown_content = \"---\\n\"\n",
    "\n",
    "    # add data from yml\n",
    "    signpost_yml_dict = read_yml(os.path.join(fp_signpost_yml, signpost_yml))\n",
    "    signpost_id = signpost_yml_dict['signpost_id']\n",
    "    markdown_content += f\"signpost_id: {signpost_id}\\n\"\n",
    "    markdown_content += f\"title: {signpost_yml_dict['title']}\\n\"\n",
    "    markdown_content += f\"Lat: {signpost_yml_dict['current_location'][0]}\\n\"\n",
    "    markdown_content += f\"Lon: {signpost_yml_dict['current_location'][1]}\\n\"\n",
    "    markdown_content += f\"location_description: {signpost_yml_dict['current_location_description']}\\n\"\n",
    "    markdown_content += f\"country: {signpost_yml_dict['current_country']}\\n\"\n",
    "    markdown_content += f\"description: {signpost_yml_dict['description']}\\n\"\n",
    "    markdown_content += f\"past_locations: {signpost_yml_dict['past_locations']}\\n\"\n",
    "    markdown_content += f\"glaciers: {signpost_yml_dict['glaciers']}\\n\"\n",
    "\n",
    "    # add photos\n",
    "    photo_yml_dict = read_yml(os.path.join(fp_photo_yml, f'{signpost_id}_photos.yml'))\n",
    "    markdown_content += f\"gallery:\\n\"\n",
    "    # find main photo\n",
    "    main_photo = None\n",
    "    for photo in photo_yml_dict:\n",
    "        if photo == 'signpost_id':\n",
    "            assert photo_yml_dict['signpost_id'] == signpost_id, 'signpost_id check photo yml file'\n",
    "            continue\n",
    "        elif photo_yml_dict[photo]['is_main_photo']:\n",
    "            if main_photo is not None:\n",
    "                raise ValueError(f\"Main photo already defined as {main_photo}, \"\n",
    "                                 f\"but {photo} also wants to become main photo!\")\n",
    "            main_photo = photo\n",
    "\n",
    "        # add photo to gallery\n",
    "        image_path = f\"{fp_signpost_photos}{photo_yml_dict[photo]['filename']}\"\n",
    "        check_file_exist(image_path, signpost_id)\n",
    "        markdown_content += f\"  - url: {image_path}\\n\"\n",
    "        markdown_content += f\"    image_path: {image_path}\\n\"\n",
    "        photo_credit = (f\"Photo credit: {photo_yml_dict[photo]['photographer_name']}, \"\n",
    "                        f\"{photo_yml_dict[photo]['photo_date']}\")\n",
    "        markdown_content += f'    alt: \"{photo_credit}\"\\n'\n",
    "        markdown_content += f'    title: \"{photo_yml_dict[photo][\"photo_description\"]} {photo_credit}\"\\n'\n",
    "\n",
    "    filename_main_photo = f\"{fp_signpost_photos}{photo_yml_dict[main_photo]['filename']}\"\n",
    "    main_photo_credit = (f\"Photo credit: {photo_yml_dict[main_photo]['photographer_name']}, \"\n",
    "                         f\"{photo_yml_dict[main_photo]['photo_date']}\")\n",
    "    markdown_content += f\"main_photo: {filename_main_photo}\\n\"\n",
    "    markdown_content += \"header:\\n\"\n",
    "    markdown_content += f\"  overlay_image: {filename_main_photo}\\n\"\n",
    "    markdown_content += f\"  teaser: {filename_main_photo}\\n\"\n",
    "    markdown_content += f'  caption: \"{main_photo_credit}\"\\n'\n",
    "\n",
    "    # end file\n",
    "    markdown_content += \"---\\n\"\n",
    "\n",
    "    # add contant what is visible below the heading\n",
    "    markdown_content += \"Country: {{ page.country }}  <br>{{ page.location_description }}\\n\"\n",
    "\n",
    "    # save markdown file\n",
    "    with open(os.path.join(fp_signpost_md, f\"{signpost_id}.md\"), 'w') as file:\n",
    "        file.write(markdown_content)\n",
    "    \n",
    "    print(f\"Markdown file {signpost_id} created.\")"
   ]
  },
  {
   "cell_type": "markdown",
   "id": "08359284-0285-44ea-a16a-9cc928361125",
   "metadata": {},
   "source": [
    "# Test for notebook"
   ]
  },
  {
   "cell_type": "code",
   "execution_count": null,
   "id": "e728c82a-f3d3-4424-95c8-03492f2dd48e",
   "metadata": {},
   "outputs": [],
   "source": [
    "if is_notebook:\n",
    "    signpost_yml = get_all_signpost_yml()[0]\n",
    "    create_signpost_markdown(signpost_yml)"
   ]
  },
  {
   "cell_type": "markdown",
   "id": "fcc7bd55-dc0d-4dae-8b31-70c63637f10f",
   "metadata": {},
   "source": [
    "# Run all"
   ]
  },
  {
   "cell_type": "code",
   "execution_count": null,
   "id": "8e099c4a-bfe0-490c-9249-660343511ee8",
   "metadata": {},
   "outputs": [],
   "source": [
    "for signpost_yml in get_all_signpost_yml():\n",
    "    try:\n",
    "        create_signpost_markdown(signpost_yml)\n",
    "    except Exception as error:\n",
    "        print(f\"{signpost_yml} not working, error: {error}\")"
   ]
  },
  {
   "cell_type": "code",
   "execution_count": null,
   "id": "6db70513-48cb-4a50-a537-8cf8eb5ee74e",
   "metadata": {},
   "outputs": [],
   "source": []
  }
 ],
 "metadata": {
  "jupytext": {
   "formats": "ipynb,auto:light"
  },
  "kernelspec": {
   "display_name": "Python 3 (ipykernel)",
   "language": "python",
   "name": "python3"
  },
  "language_info": {
   "codemirror_mode": {
    "name": "ipython",
    "version": 3
   },
   "file_extension": ".py",
   "mimetype": "text/x-python",
   "name": "python",
   "nbconvert_exporter": "python",
   "pygments_lexer": "ipython3",
   "version": "3.10.16"
  }
 },
 "nbformat": 4,
 "nbformat_minor": 5
}
