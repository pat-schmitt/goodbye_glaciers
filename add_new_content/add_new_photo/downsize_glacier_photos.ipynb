{
 "cells": [
  {
   "cell_type": "code",
   "execution_count": null,
   "id": "f20c81f9-2564-4f14-854e-1c1628bf7979",
   "metadata": {},
   "outputs": [],
   "source": [
    "from PIL import Image\n",
    "import os"
   ]
  },
  {
   "cell_type": "code",
   "execution_count": null,
   "id": "9455d64d-b94b-41a7-b9c4-71d923ca9122",
   "metadata": {},
   "outputs": [],
   "source": [
    "def resize_image(filename, input_folder, output_folder, target_size_kb=500):\n",
    "    \"\"\"Resize image to meet target size by adjusting resolution, not quality.\"\"\"\n",
    "    filepath = os.path.join(input_folder, filename)\n",
    "    output_path = os.path.join(output_folder, filename)\n",
    "\n",
    "    try:\n",
    "        image = Image.open(filepath)\n",
    "        image = image.convert(\"RGB\")  # Convert to RGB (ensures compatibility)\n",
    "\n",
    "        # Save once at full quality to check if resizing is needed\n",
    "        image.save(output_path, \"JPEG\", quality=100, optimize=True)\n",
    "        if os.path.getsize(output_path) / 1024 <= target_size_kb:\n",
    "            print(f\"✔ {filename}: Already under {target_size_kb}KB\")\n",
    "            return\n",
    "\n",
    "        # Start resizing process\n",
    "        width, height = image.size\n",
    "        scale_factor = 0.99  # Start with a 90% scale reduction\n",
    "\n",
    "        while os.path.getsize(output_path) / 1024 > target_size_kb:\n",
    "            new_size = (int(width * scale_factor), int(height * scale_factor))\n",
    "            resized_image = image.resize(new_size, Image.LANCZOS)\n",
    "            resized_image.save(output_path, \"JPEG\", quality=100, optimize=True)\n",
    "\n",
    "            width, height = new_size  # Update new size for next iteration\n",
    "            scale_factor -= 0.01  # Reduce size in steps of 5%\n",
    "            if min(width, height) < 300:  # Avoid excessive downsizing\n",
    "                break\n",
    "\n",
    "        print(f\"✔ {filename}: Resized to {os.path.getsize(output_path) / 1024:.2f} KB\")\n",
    "\n",
    "    except Exception as e:\n",
    "        print(f\"❌ Error processing {filename}: {e}\")\n",
    "\n",
    "def resize_images(input_folder, output_folder, target_size_kb=500):\n",
    "    \"\"\"Process all images in the input folder and resize them to the target size.\"\"\"\n",
    "    if not os.path.exists(output_folder):\n",
    "        os.makedirs(output_folder)\n",
    "\n",
    "    for filename in os.listdir(input_folder):\n",
    "        if filename.lower().endswith((\"jpg\", \"jpeg\", \"png\")):\n",
    "            resize_image(filename, input_folder, output_folder, target_size_kb)"
   ]
  },
  {
   "cell_type": "code",
   "execution_count": null,
   "id": "4d49da13-5445-4140-810e-9e4821aa3e1e",
   "metadata": {},
   "outputs": [],
   "source": [
    "# define folder where the original images can be found\n",
    "input_folder = \"/original/\"\n",
    "output_folder = \"/compressed/\"\n",
    "\n",
    "resize_images(input_folder, output_folder, target_size_kb=500)"
   ]
  },
  {
   "cell_type": "code",
   "execution_count": null,
   "id": "e0756ea1-7d05-428f-8d84-b4c6e9205bf8",
   "metadata": {},
   "outputs": [],
   "source": []
  }
 ],
 "metadata": {
  "kernelspec": {
   "display_name": "Python 3 (ipykernel)",
   "language": "python",
   "name": "python3"
  },
  "language_info": {
   "codemirror_mode": {
    "name": "ipython",
    "version": 3
   },
   "file_extension": ".py",
   "mimetype": "text/x-python",
   "name": "python",
   "nbconvert_exporter": "python",
   "pygments_lexer": "ipython3",
   "version": "3.10.16"
  }
 },
 "nbformat": 4,
 "nbformat_minor": 5
}
