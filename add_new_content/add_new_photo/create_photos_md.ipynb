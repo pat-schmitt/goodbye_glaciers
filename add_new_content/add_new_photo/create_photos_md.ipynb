{
 "cells": [
  {
   "cell_type": "code",
   "execution_count": null,
   "id": "0388469a-aca0-4d18-84ee-fc66ba197cd7",
   "metadata": {
    "tags": []
   },
   "outputs": [],
   "source": [
    "import os\n",
    "import pandas as pd\n",
    "import yaml"
   ]
  },
  {
   "cell_type": "markdown",
   "id": "247bbdf7-dd45-4be8-a4ed-a87c4d95134c",
   "metadata": {},
   "source": [
    "# Define all filepaths"
   ]
  },
  {
   "cell_type": "markdown",
   "id": "57255716-d7c8-4aea-beeb-45d7c296c37b",
   "metadata": {},
   "source": [
    "## filepaths for opening input data for creation of md"
   ]
  },
  {
   "cell_type": "code",
   "execution_count": null,
   "id": "95be9f08-db6b-4821-b81e-b57c6ed4024c",
   "metadata": {},
   "outputs": [],
   "source": [
    "# go up until we are in the project base directory\n",
    "base_dir = os.getcwd()\n",
    "while base_dir.split('/')[-1] != 'goodbye_glaciers':\n",
    "    base_dir = os.path.normpath(os.path.join(base_dir, '..'))\n",
    "\n",
    "fp_glacier_photos_yml = os.path.join(base_dir, 'add_new_content', 'add_new_photo', 'glacier_photos_yml_files')\n",
    "fp_signpost_photos_yml = os.path.join(base_dir, 'add_new_content', 'add_new_photo', 'signpost_photos_yml_files')\n",
    "fp_photo_licenses_yml = os.path.join(base_dir, 'add_new_content', 'add_new_photo', 'list_of_photo_licenses.yml')"
   ]
  },
  {
   "cell_type": "code",
   "execution_count": null,
   "id": "69c92fac-fd5e-4f3a-9035-cb6b7bf746a5",
   "metadata": {},
   "outputs": [],
   "source": [
    "def get_all_photo_yml(fp):\n",
    "    return [file for file in os.listdir(fp)\n",
    "            if file.split('.')[-1] == 'yml']"
   ]
  },
  {
   "cell_type": "code",
   "execution_count": null,
   "id": "a5f0a7ba-2402-44a3-b5d8-7e62cbb4ab2b",
   "metadata": {},
   "outputs": [],
   "source": [
    "def read_yml(fp):\n",
    "    with open(fp) as stream:\n",
    "        yml_content = yaml.safe_load(stream)\n",
    "    return yml_content"
   ]
  },
  {
   "cell_type": "code",
   "execution_count": null,
   "id": "a78cdf6d-e9c6-4b4a-a736-019a38cea917",
   "metadata": {},
   "outputs": [],
   "source": [
    "def check_file_exist(fp, photo_id):\n",
    "    fp_total = f\"{base_dir}{fp}\"\n",
    "    if not os.path.exists(fp_total):\n",
    "        print(f'{photo_id}: {fp} does not exist!')"
   ]
  },
  {
   "cell_type": "markdown",
   "id": "394db609-c78a-48a9-817a-af274486060c",
   "metadata": {},
   "source": [
    "## filepaths used when deploying the website"
   ]
  },
  {
   "cell_type": "code",
   "execution_count": null,
   "id": "ac30afcf-2f4a-4cca-a160-7c8b8e7e14d1",
   "metadata": {},
   "outputs": [],
   "source": [
    "fp_glacier_photos = '/assets/images/photos_glaciers/'\n",
    "fp_signpost_photos = '/assets/images/photos_signposts/'\n",
    "fp_photo_md = os.path.join(base_dir, '_photos')"
   ]
  },
  {
   "cell_type": "markdown",
   "id": "70dbc4aa-9911-4e3b-ac52-8e9b01011e9d",
   "metadata": {},
   "source": [
    "# Open data needed by all"
   ]
  },
  {
   "cell_type": "code",
   "execution_count": null,
   "id": "7f084fda-f8a8-487f-8606-d1ced59009b9",
   "metadata": {},
   "outputs": [],
   "source": [
    "photo_licenses = read_yml(fp_photo_licenses_yml)"
   ]
  },
  {
   "cell_type": "markdown",
   "id": "dbcee81e-0ae4-454b-95dd-8f14812c0475",
   "metadata": {},
   "source": [
    "# Function creating glacier markdown sites"
   ]
  },
  {
   "cell_type": "code",
   "execution_count": null,
   "id": "3f934308-0564-470b-9d27-47e2707f5e2b",
   "metadata": {},
   "outputs": [],
   "source": [
    "def create_photo_markdown(fp_photo_yml, fp_photo):\n",
    "\n",
    "    photo_yml_dict = read_yml(fp_photo_yml)\n",
    "\n",
    "    # define photo_id prefix\n",
    "    if 'rgi_id' in photo_yml_dict:\n",
    "        photo_id_prefix = photo_yml_dict['rgi_id']\n",
    "    elif 'signpost_id' in photo_yml_dict:\n",
    "        photo_id_prefix = photo_yml_dict['signpost_id']\n",
    "    else:\n",
    "        raise ValueError('Need to provide rgi_id or signpost_id!')\n",
    "\n",
    "    # loop through all photos and create markdown\n",
    "    for photo in photo_yml_dict:\n",
    "        if photo in ['rgi_id', 'signpost_id']:\n",
    "            continue\n",
    "\n",
    "        photo_id = f\"{photo_id_prefix}_{photo}\"\n",
    "        photo_settings = photo_yml_dict[photo]\n",
    "\n",
    "        # start creating markdown\n",
    "        markdown_content = \"---\\n\"\n",
    "        markdown_content += f\"photo_id: {photo_id}\\n\"\n",
    "\n",
    "        for setting in photo_settings:\n",
    "            if setting == 'filename':\n",
    "                check_file_exist(f\"{fp_photo}{photo_settings[setting]}\",\n",
    "                                 photo_id)\n",
    "                markdown_content += f\"{setting}: {fp_photo}{photo_settings[setting]}\\n\"\n",
    "            elif setting == 'photo_license' and photo_settings[setting]:\n",
    "                markdown_content += f'{setting}: \"{photo_settings[setting]}\"\\n'\n",
    "                markdown_content += f'photo_license_url: \"{photo_licenses[photo_settings[setting]]}\"\\n'\n",
    "            # ignore blank lines\n",
    "            elif photo_settings[setting]:\n",
    "                markdown_content += f'{setting}: \"{photo_settings[setting]}\"\\n'\n",
    "\n",
    "        # end file\n",
    "        markdown_content += \"---\\n\"\n",
    "\n",
    "        # save markdown file\n",
    "        with open(os.path.join(fp_photo_md, f\"{photo_id}.md\"), 'w') as file:\n",
    "            file.write(markdown_content)\n",
    "    \n",
    "        print(f\"Markdown file {photo_id} created.\")"
   ]
  },
  {
   "cell_type": "markdown",
   "id": "b2b85ba8-7177-468b-be05-d07adb17ac8b",
   "metadata": {},
   "source": [
    "# Run all"
   ]
  },
  {
   "cell_type": "code",
   "execution_count": null,
   "id": "d92dec73-cb02-4c61-98e8-76c3d0d7b09e",
   "metadata": {},
   "outputs": [],
   "source": [
    "def create_all_photo_md():\n",
    "    # glacier photos\n",
    "    print('Glacier photos:')\n",
    "    for photo_yml in get_all_photo_yml(fp_glacier_photos_yml):\n",
    "        try:\n",
    "            fp_photo_yml = os.path.join(fp_glacier_photos_yml, photo_yml)\n",
    "            create_photo_markdown(fp_photo_yml,\n",
    "                                  fp_photo=fp_glacier_photos)\n",
    "        except Exception as error:\n",
    "            print(f\"{photo_yml} not working, error: {error}\")\n",
    "    \n",
    "    # signpost photos\n",
    "    print('\\nSignpost photos:')\n",
    "    for photo_yml in get_all_photo_yml(fp_signpost_photos_yml):\n",
    "        try:\n",
    "            fp_photo_yml = os.path.join(fp_signpost_photos_yml, photo_yml)\n",
    "            create_photo_markdown(fp_photo_yml,\n",
    "                                  fp_photo=fp_signpost_photos)\n",
    "        except Exception as error:\n",
    "            print(f\"{photo_yml} not working, error: {error}\")"
   ]
  },
  {
   "cell_type": "code",
   "execution_count": null,
   "id": "5199e9e5-b988-46b5-a6ea-13589f89c8fa",
   "metadata": {},
   "outputs": [],
   "source": [
    "if __name__ == '__main__':\n",
    "    create_all_photo_md()"
   ]
  },
  {
   "cell_type": "code",
   "execution_count": null,
   "id": "a9294071-79ce-4f1b-a472-83d23d9f9434",
   "metadata": {},
   "outputs": [],
   "source": []
  }
 ],
 "metadata": {
  "jupytext": {
   "formats": "ipynb,py:light"
  },
  "kernelspec": {
   "display_name": "Python 3 (ipykernel)",
   "language": "python",
   "name": "python3"
  },
  "language_info": {
   "codemirror_mode": {
    "name": "ipython",
    "version": 3
   },
   "file_extension": ".py",
   "mimetype": "text/x-python",
   "name": "python",
   "nbconvert_exporter": "python",
   "pygments_lexer": "ipython3",
   "version": "3.10.16"
  }
 },
 "nbformat": 4,
 "nbformat_minor": 5
}
