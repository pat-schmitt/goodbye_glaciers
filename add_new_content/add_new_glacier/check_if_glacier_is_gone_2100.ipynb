{
 "cells": [
  {
   "cell_type": "code",
   "execution_count": null,
   "id": "daeece1c-53dd-4370-9f75-76a73073e31f",
   "metadata": {},
   "outputs": [],
   "source": [
    "import pandas as pd\n",
    "import numpy as np"
   ]
  },
  {
   "cell_type": "code",
   "execution_count": null,
   "id": "bfbfc945-a9d9-47f8-8dcc-108c464a7132",
   "metadata": {},
   "outputs": [],
   "source": [
    "df_deglac = pd.read_csv('glacier_data_deglaciation.csv', index_col=0)"
   ]
  },
  {
   "cell_type": "code",
   "execution_count": null,
   "id": "a966d11f-6e7e-4596-87ab-3958a23c6938",
   "metadata": {},
   "outputs": [],
   "source": [
    "rgi_ids_to_check = [\n",
    "    'RGI60-11.00028',  # for testing, will be 'alive' 2100\n",
    "    'RGI60-11.03674',  # Glacier de St Sorlin\n",
    "    'RGI60-11.01946',  # Morteratsch\n",
    "    'RGI60-11.00843',  # Clariden\n",
    "]"
   ]
  },
  {
   "cell_type": "code",
   "execution_count": null,
   "id": "dc9713cb-0243-4831-b177-71a970215e93",
   "metadata": {},
   "outputs": [],
   "source": [
    "for rgi_id in rgi_ids_to_check:\n",
    "    if np.isnan(df_deglac.loc[rgi_id]['deglac_yr_2.7deg_10perc_q50']):\n",
    "        print(f'{rgi_id} is alive in 2100!')"
   ]
  },
  {
   "cell_type": "code",
   "execution_count": null,
   "id": "a7c32284-8430-4504-aab3-478b3a21e7bf",
   "metadata": {},
   "outputs": [],
   "source": []
  }
 ],
 "metadata": {
  "kernelspec": {
   "display_name": "Python 3 (ipykernel)",
   "language": "python",
   "name": "python3"
  },
  "language_info": {
   "codemirror_mode": {
    "name": "ipython",
    "version": 3
   },
   "file_extension": ".py",
   "mimetype": "text/x-python",
   "name": "python",
   "nbconvert_exporter": "python",
   "pygments_lexer": "ipython3",
   "version": "3.10.16"
  }
 },
 "nbformat": 4,
 "nbformat_minor": 5
}
