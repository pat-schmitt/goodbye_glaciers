{
 "cells": [
  {
   "cell_type": "code",
   "execution_count": null,
   "id": "0388469a-aca0-4d18-84ee-fc66ba197cd7",
   "metadata": {
    "tags": []
   },
   "outputs": [],
   "source": [
    "import os\n",
    "import pandas as pd\n",
    "import yaml\n",
    "import json"
   ]
  },
  {
   "cell_type": "markdown",
   "id": "247bbdf7-dd45-4be8-a4ed-a87c4d95134c",
   "metadata": {},
   "source": [
    "# Define all filepaths"
   ]
  },
  {
   "cell_type": "markdown",
   "id": "57255716-d7c8-4aea-beeb-45d7c296c37b",
   "metadata": {},
   "source": [
    "## filepaths for opening input data for creation of md"
   ]
  },
  {
   "cell_type": "code",
   "execution_count": null,
   "id": "95be9f08-db6b-4821-b81e-b57c6ed4024c",
   "metadata": {},
   "outputs": [],
   "source": [
    "# go up until we are in the project base directory\n",
    "base_dir = os.getcwd()\n",
    "while base_dir.split('/')[-1] != 'goodbye_glaciers':\n",
    "    base_dir = os.path.normpath(os.path.join(base_dir, '..'))\n",
    "\n",
    "fp_glacier_yml = os.path.join(base_dir, 'add_new_content', 'add_new_glacier', 'glacier_yml_files')\n",
    "fp_photo_yml = os.path.join(base_dir, 'add_new_content', 'add_new_photo', 'glacier_photos_yml_files')\n",
    "deglac_csv_file = 'https://cluster.klima.uni-bremen.de/~pschmitt/goodby_glaciers/website/data_plots_for_website/deglaciation_csv/rgi_{}_glacier_data_deglaciation.csv'\n",
    "fp_signpost_yml = os.path.join(base_dir, 'add_new_content', 'add_new_signpost', 'signpost_yml_files')"
   ]
  },
  {
   "cell_type": "code",
   "execution_count": null,
   "id": "69c92fac-fd5e-4f3a-9035-cb6b7bf746a5",
   "metadata": {},
   "outputs": [],
   "source": [
    "def get_all_glacier_yml(fp=fp_glacier_yml):\n",
    "    return [file for file in os.listdir(fp)\n",
    "            if file.split('.')[-1] == 'yml']"
   ]
  },
  {
   "cell_type": "code",
   "execution_count": null,
   "id": "a5f0a7ba-2402-44a3-b5d8-7e62cbb4ab2b",
   "metadata": {},
   "outputs": [],
   "source": [
    "def read_yml(fp):\n",
    "    with open(fp) as stream:\n",
    "        yml_content = yaml.safe_load(stream)\n",
    "    return yml_content"
   ]
  },
  {
   "cell_type": "code",
   "execution_count": null,
   "id": "a78cdf6d-e9c6-4b4a-a736-019a38cea917",
   "metadata": {},
   "outputs": [],
   "source": [
    "def check_file_exist(fp, rgi_id):\n",
    "    fp_total = f\"{base_dir}{fp}\"\n",
    "    if not os.path.exists(fp_total):\n",
    "        print(f'{rgi_id}: {fp} does not exist!')"
   ]
  },
  {
   "cell_type": "markdown",
   "id": "394db609-c78a-48a9-817a-af274486060c",
   "metadata": {},
   "source": [
    "## filepaths used when deploying the website"
   ]
  },
  {
   "cell_type": "code",
   "execution_count": null,
   "id": "8f99f058-d4b9-43fe-95c3-a910bbc8ec9a",
   "metadata": {},
   "outputs": [],
   "source": [
    "animation_source = 'fileshare'  # 'local', 'fileshare'"
   ]
  },
  {
   "cell_type": "code",
   "execution_count": null,
   "id": "ac30afcf-2f4a-4cca-a160-7c8b8e7e14d1",
   "metadata": {},
   "outputs": [],
   "source": [
    "fp_glacier_volume = '/assets/images/volume_evolution_glaciers/'\n",
    "fp_glacier_animations = '/assets/videos/glacier_animations/'\n",
    "fp_glacier_photos = '/assets/images/photos_glaciers/'\n",
    "fp_glacier_md = os.path.join(base_dir, '_glaciers')\n",
    "fp_glacier_list = '/assets/glaciers.json'\n",
    "\n",
    "fp_glacier_animations_fileshare = 'https://fileshare.uibk.ac.at/d/b1c8bdcb065c4ee5bf3e/files/?p=%2F'"
   ]
  },
  {
   "cell_type": "markdown",
   "id": "dbcee81e-0ae4-454b-95dd-8f14812c0475",
   "metadata": {},
   "source": [
    "# Function creating glacier markdown sites"
   ]
  },
  {
   "cell_type": "code",
   "execution_count": null,
   "id": "ce796161-027e-4cc4-a11f-13b0e6d06887",
   "metadata": {},
   "outputs": [],
   "source": [
    "# container to avoid multiple opening\n",
    "df_deglac_all = {}"
   ]
  },
  {
   "cell_type": "code",
   "execution_count": null,
   "id": "3f934308-0564-470b-9d27-47e2707f5e2b",
   "metadata": {},
   "outputs": [],
   "source": [
    "def create_glacier_markdown(glacier_yml, glacier_location_list):\n",
    "\n",
    "    rgi_id = glacier_yml.replace('.yml', '')\n",
    "\n",
    "    rgi_reg = rgi_id.split('-')[1].split('.')[0]\n",
    "    if rgi_reg not in df_deglac_all:\n",
    "        df_deglac_all[rgi_reg] = pd.read_csv(deglac_csv_file.format(rgi_reg)).set_index('rgi_id')\n",
    "    df_deglac = df_deglac_all[rgi_reg]\n",
    "\n",
    "    # start creating markdown\n",
    "    markdown_content = \"---\\n\"\n",
    "    markdown_content += f\"rgi_id: {rgi_id}\\n\"\n",
    "\n",
    "    # add data from yml\n",
    "    glacier_yml_dict = read_yml(os.path.join(fp_glacier_yml, glacier_yml))\n",
    "    assert glacier_yml_dict['rgi_id'] == rgi_id, 'rgi_id check glacier yml file'\n",
    "    markdown_content += f\"title: {glacier_yml_dict['name']}\\n\"\n",
    "    \n",
    "    if glacier_yml_dict['country'] == 'Switzerland':\n",
    "        glacier_yml_dict['country_de'] = 'Schweiz'\n",
    "        glacier_yml_dict['country_it'] = 'Svizzera'\n",
    "        glacier_yml_dict['country_fr'] = 'Suisse'\n",
    "    elif glacier_yml_dict['country'] == 'Italy':\n",
    "        glacier_yml_dict['country_de'] = 'Italien'\n",
    "        glacier_yml_dict['country_it'] = 'Italia'\n",
    "        glacier_yml_dict['country_fr'] = 'Italie'\n",
    "    elif glacier_yml_dict['country'] == 'France':\n",
    "        glacier_yml_dict['country_de'] = 'Frankreich'\n",
    "        glacier_yml_dict['country_it'] = 'Francia'\n",
    "        glacier_yml_dict['country_fr'] = 'France'\n",
    "    elif glacier_yml_dict['country'] == 'Austria':\n",
    "        glacier_yml_dict['country_de'] = 'Österreich'\n",
    "        glacier_yml_dict['country_it'] = 'Austria'\n",
    "        glacier_yml_dict['country_fr'] = 'Autriche'\n",
    "    elif glacier_yml_dict['country'] == 'Germany':\n",
    "        glacier_yml_dict['country_de'] = 'Deutschland'\n",
    "        glacier_yml_dict['country_it'] = 'Germania'\n",
    "        glacier_yml_dict['country_fr'] = 'Allemagne'\n",
    "    elif glacier_yml_dict['country'] == 'Sweden':\n",
    "        glacier_yml_dict['country_de'] = 'Schweden'\n",
    "        glacier_yml_dict['country_it'] = 'Svezia'\n",
    "        glacier_yml_dict['country_fr'] = 'Suède'\n",
    "    elif glacier_yml_dict['country'] == 'Kyrgyzstan':\n",
    "        glacier_yml_dict['country_de'] = 'Kirgisistan'\n",
    "        glacier_yml_dict['country_it'] = 'Kirghizistan'\n",
    "        glacier_yml_dict['country_fr'] = 'Kirghizistan'\n",
    "    elif glacier_yml_dict['country'] == 'Canada':\n",
    "        glacier_yml_dict['country_de'] = 'Kanada'\n",
    "        glacier_yml_dict['country_it'] = 'Canada'\n",
    "        glacier_yml_dict['country_fr'] = 'Canada'\n",
    "    elif glacier_yml_dict['country'] == 'USA':\n",
    "        glacier_yml_dict['country_de'] = 'USA'\n",
    "        glacier_yml_dict['country_it'] = 'Stati Uniti'\n",
    "        glacier_yml_dict['country_fr'] = 'États-Unis'\n",
    "    elif glacier_yml_dict['country'] == 'Chile':\n",
    "        glacier_yml_dict['country_de'] = 'Chile'\n",
    "        glacier_yml_dict['country_it'] = 'Cile'\n",
    "        glacier_yml_dict['country_fr'] = 'Chili'\n",
    "    elif glacier_yml_dict['country'] == 'New Zealand':\n",
    "        glacier_yml_dict['country_de'] = 'Neuseeland'\n",
    "        glacier_yml_dict['country_it'] = 'Nuova Zelanda'\n",
    "        glacier_yml_dict['country_fr'] = 'Nouvelle-Zélande'\n",
    "    \n",
    "    markdown_content += f\"country: {glacier_yml_dict['country']}\\n\"\n",
    "    markdown_content += f\"country_de: {glacier_yml_dict['country_de']}\\n\"\n",
    "    markdown_content += f\"country_it: {glacier_yml_dict['country_it']}\\n\"\n",
    "    markdown_content += f\"country_fr: {glacier_yml_dict['country_fr']}\\n\"\n",
    "\n",
    "    # add data from csv\n",
    "    try:\n",
    "        rgi_id_csv = df_deglac.loc[rgi_id].copy()\n",
    "    except KeyError:\n",
    "        raise KeyError(f'{rgi_id} not included in glacier_data_deglaciation.csv!')\n",
    "    for csv_var in ['Lon', 'Lat', 'vol2020_km3',\n",
    "                    'deglac_yr_2.7deg_10perc_e-2km3_q50',\n",
    "                    'deglac_yr_2.7deg_10perc_e-2km3_q17',\n",
    "                    'deglac_yr_2.7deg_10perc_e-2km3_q83',\n",
    "                    'deglac_yr_1.5deg_10perc_e-2km3_q50',\n",
    "                    'deglac_yr_1.5deg_10perc_e-2km3_q17',\n",
    "                    'deglac_yr_1.5deg_10perc_e-2km3_q83',\n",
    "                    '2100_perc_2.7deg_q17',\n",
    "                    '2100_perc_2.7deg_q83',\n",
    "                    '2100_perc_2.7deg_q50',\n",
    "                    '2100_perc_1.5deg_q50',\n",
    "                    '2100_perc_1.5deg_q17',\n",
    "                    '2100_perc_1.5deg_q83']:\n",
    "        if csv_var == 'vol2020_km3':\n",
    "            rgi_id_csv[csv_var] = rgi_id_csv[csv_var].round(2)\n",
    "        if csv_var in ['Lon', 'Lat']:\n",
    "            markdown_content += f\"{csv_var.replace('.', '_')}: {rgi_id_csv[f'{csv_var}']}\\n\"\n",
    "        else:\n",
    "            markdown_content += f\"{csv_var.replace('.', '_')}: {rgi_id_csv[csv_var]}\\n\"\n",
    "\n",
    "    # add volume evolution curves\n",
    "    fp_file = f\"{fp_glacier_volume}{rgi_id}_simple_en.png\"\n",
    "    check_file_exist(fp_file, rgi_id)\n",
    "    markdown_content += f\"volume_evolution_simple: {fp_file}\\n\"\n",
    "    fp_file = f\"{fp_glacier_volume}{rgi_id}_complex_en.png\"\n",
    "    check_file_exist(fp_file, rgi_id)\n",
    "    markdown_content += f\"volume_evolution_complex: {fp_file}\\n\"\n",
    "\n",
    "    # add 3d animations\n",
    "    if animation_source == 'fileshare':\n",
    "        fp_file = f\"{fp_glacier_animations_fileshare}{rgi_id}_%2B1.5%C2%B0C.mp4&dl=1\"\n",
    "        markdown_content += f\"animation_15: {fp_file}\\n\"\n",
    "        fp_file = f\"{fp_glacier_animations_fileshare}{rgi_id}_%2B2.7%C2%B0C.mp4&dl=1\"\n",
    "        markdown_content += f\"animation_27: {fp_file}\\n\"\n",
    "        fp_file = f\"{fp_glacier_animations_fileshare}{rgi_id}_both.mp4&dl=1\"\n",
    "        markdown_content += f\"animation_both: {fp_file}\\n\"\n",
    "    elif animation_source == 'local':\n",
    "        fp_file = f\"{fp_glacier_animations}{rgi_id}_+1.5°C.mp4\"\n",
    "        check_file_exist(fp_file, rgi_id)\n",
    "        markdown_content += f\"animation_15: {fp_file}\\n\"\n",
    "        fp_file = f\"{fp_glacier_animations}{rgi_id}_+2.7°C.mp4\"\n",
    "        check_file_exist(fp_file, rgi_id)\n",
    "        markdown_content += f\"animation_27: {fp_file}\\n\"\n",
    "        fp_file = f\"{fp_glacier_animations}{rgi_id}_both.mp4\"\n",
    "        check_file_exist(fp_file, rgi_id)\n",
    "        markdown_content += f\"animation_both: {fp_file}\\n\"\n",
    "\n",
    "    # add photos\n",
    "    photo_yml_dict = read_yml(os.path.join(fp_photo_yml, f'{rgi_id}_photos.yml'))\n",
    "    markdown_content += f\"gallery:\\n\"\n",
    "    # find main photo\n",
    "    main_photo = None\n",
    "    for photo in photo_yml_dict:\n",
    "        if photo == 'rgi_id':\n",
    "            assert photo_yml_dict['rgi_id'] == rgi_id, 'rgi_id check photo yml file'\n",
    "            continue\n",
    "        elif photo_yml_dict[photo]['is_main_photo']:\n",
    "            if main_photo is not None:\n",
    "                raise ValueError(f\"Main photo already defined as {main_photo}, \"\n",
    "                                 f\"but {photo} also wants to become main photo!\")\n",
    "            main_photo = photo\n",
    "\n",
    "        # add photo to gallery\n",
    "        image_path = f\"{fp_glacier_photos}{photo_yml_dict[photo]['filename']}\"\n",
    "        check_file_exist(image_path, rgi_id)\n",
    "        markdown_content += f\"  - url: {image_path}\\n\"\n",
    "        markdown_content += f\"    image_path: {image_path}\\n\"\n",
    "        photo_credit = (\"Photo credit: \"\n",
    "                        f'<a href=\"/methods/#{rgi_id}_{main_photo}\">'\n",
    "                        f\"{photo_yml_dict[photo]['photographer_name']}, \"\n",
    "                        f\"{photo_yml_dict[photo]['photo_date']}\"\n",
    "                        '</a>'\n",
    "                       )\n",
    "        markdown_content += (f\"    alt: \"\n",
    "                             f\"{photo_yml_dict[photo]['photographer_name']}, \"\n",
    "                             f\"{photo_yml_dict[photo]['photo_date']}\\n\"\n",
    "                            )\n",
    "        markdown_content += f\"    title: '{photo_credit}'\\n\"\n",
    "\n",
    "    filename_main_photo = f\"{fp_glacier_photos}{photo_yml_dict[main_photo]['filename']}\"\n",
    "    main_photo_credit = (f\"Photo credit: \"\n",
    "                         f'<a href=\"/methods/#{rgi_id}_{main_photo}\">'\n",
    "                         f\"{photo_yml_dict[main_photo]['photographer_name']}, \"\n",
    "                         f\"{photo_yml_dict[main_photo]['photo_date']}\"\n",
    "                         '</a>'\n",
    "                        )\n",
    "    markdown_content += f\"main_photo: {filename_main_photo}\\n\"\n",
    "    markdown_content += \"header:\\n\"\n",
    "    markdown_content += f\"  overlay_image: {filename_main_photo}\\n\"\n",
    "    markdown_content += f\"  teaser: {filename_main_photo}\\n\"\n",
    "    markdown_content += f\"  caption: '{main_photo_credit}'\\n\"\n",
    "\n",
    "    # add signposts to glacier\n",
    "    all_signpost_yml_files = get_all_glacier_yml(fp=fp_signpost_yml)\n",
    "    featured_signposts = None\n",
    "    for signpost_file in all_signpost_yml_files:\n",
    "        signpost_yml_dict = read_yml(os.path.join(fp_signpost_yml, signpost_file))\n",
    "    \n",
    "        if rgi_id in signpost_yml_dict['glaciers']:\n",
    "            if featured_signposts is None:\n",
    "                featured_signposts = [signpost_yml_dict['signpost_id']]\n",
    "            else:\n",
    "                featured_signposts.append(signpost_yml_dict['signpost_id'])\n",
    "    if featured_signposts:\n",
    "        markdown_content += f\"signposts: {featured_signposts}\\n\"\n",
    "\n",
    "    # end file\n",
    "    markdown_content += \"---\\n\"\n",
    "\n",
    "    # add contant what is visible below the heading\n",
    "    markdown_content += (\"{% case site.lang %}\"\n",
    "                         '{% when \"de\" %}'\n",
    "                         \"{% include glacier_heading_de %}\"\n",
    "                         '{% when \"it\" %}'\n",
    "                         \"{% include glacier_heading_it %}\"\n",
    "                         '{% when \"fr\" %}'\n",
    "                         \"{% include glacier_heading_fr %}\"\n",
    "                         '{% else %}'\n",
    "                         \"{% include glacier_heading_en %}\"\n",
    "                         '{% endcase %}'\n",
    "                        )\n",
    "\n",
    "    # save markdown file\n",
    "    with open(os.path.join(fp_glacier_md, f\"{rgi_id}.md\"), 'w') as file:\n",
    "            file.write(markdown_content)\n",
    "    \n",
    "    print(f\"Markdown file {rgi_id} created.\")\n",
    "\n",
    "    # add glacier to glacier list for compass functionality\n",
    "    glacier_location_list.append(\n",
    "        {\n",
    "            'name': glacier_yml_dict['name'],\n",
    "            'latitude': rgi_id_csv['Lat'],\n",
    "            'longitude': rgi_id_csv['Lon'],\n",
    "        }\n",
    "    )"
   ]
  },
  {
   "cell_type": "markdown",
   "id": "b2b85ba8-7177-468b-be05-d07adb17ac8b",
   "metadata": {},
   "source": [
    "# Run all"
   ]
  },
  {
   "cell_type": "code",
   "execution_count": null,
   "id": "d92dec73-cb02-4c61-98e8-76c3d0d7b09e",
   "metadata": {},
   "outputs": [],
   "source": [
    "def create_all_glacier_md():\n",
    "    # clear folder before starting\n",
    "    for file in os.listdir(fp_glacier_md):\n",
    "        file_path = os.path.join(fp_glacier_md, file)\n",
    "        if os.path.isfile(file_path):\n",
    "            os.unlink(file_path)\n",
    "\n",
    "    glacier_location_list = []\n",
    "    for glacier_yml in get_all_glacier_yml():\n",
    "        try:\n",
    "            create_glacier_markdown(glacier_yml, glacier_location_list)\n",
    "        except Exception as error:\n",
    "            print(f\"{glacier_yml} not working, error: {error}\")\n",
    "    with open(f\"{base_dir}{fp_glacier_list}\", 'w') as file:\n",
    "        json.dump(glacier_location_list, file)"
   ]
  },
  {
   "cell_type": "code",
   "execution_count": null,
   "id": "5199e9e5-b988-46b5-a6ea-13589f89c8fa",
   "metadata": {},
   "outputs": [],
   "source": [
    "if __name__ == '__main__':\n",
    "    create_all_glacier_md()"
   ]
  },
  {
   "cell_type": "code",
   "execution_count": null,
   "id": "1a02f98a-6fa2-4de2-aa8c-63df06bd10d9",
   "metadata": {},
   "outputs": [],
   "source": [
    "do_debugging = False"
   ]
  },
  {
   "cell_type": "code",
   "execution_count": null,
   "id": "282f1465-3dd0-4d70-b41f-77d6104297c4",
   "metadata": {},
   "outputs": [],
   "source": [
    "if do_debugging:\n",
    "    for file in os.listdir(fp_glacier_md):\n",
    "        file_path = os.path.join(fp_glacier_md, file)\n",
    "        if os.path.isfile(file_path):\n",
    "            os.unlink(file_path)\n",
    "    \n",
    "    glacier_location_list = []\n",
    "    #for glacier_yml in get_all_glacier_yml()"
   ]
  },
  {
   "cell_type": "code",
   "execution_count": null,
   "id": "96a215f9-f8e3-49d1-9475-89163b772147",
   "metadata": {},
   "outputs": [],
   "source": [
    "if do_debugging:\n",
    "    print(get_all_glacier_yml())"
   ]
  },
  {
   "cell_type": "code",
   "execution_count": null,
   "id": "682fc579-4843-49f5-ad0f-73b25c305185",
   "metadata": {},
   "outputs": [],
   "source": [
    "if do_debugging:\n",
    "    create_glacier_markdown(get_all_glacier_yml()[-2], glacier_location_list)"
   ]
  },
  {
   "cell_type": "code",
   "execution_count": null,
   "id": "55ff90f4-053a-4352-b465-cea6540ead0f",
   "metadata": {},
   "outputs": [],
   "source": []
  }
 ],
 "metadata": {
  "jupytext": {
   "formats": "ipynb,auto:light"
  },
  "kernelspec": {
   "display_name": "Python 3 (ipykernel)",
   "language": "python",
   "name": "python3"
  },
  "language_info": {
   "codemirror_mode": {
    "name": "ipython",
    "version": 3
   },
   "file_extension": ".py",
   "mimetype": "text/x-python",
   "name": "python",
   "nbconvert_exporter": "python",
   "pygments_lexer": "ipython3",
   "version": "3.10.16"
  }
 },
 "nbformat": 4,
 "nbformat_minor": 5
}
