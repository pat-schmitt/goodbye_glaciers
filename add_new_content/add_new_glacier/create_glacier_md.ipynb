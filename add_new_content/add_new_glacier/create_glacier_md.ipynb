{
 "cells": [
  {
   "cell_type": "code",
   "execution_count": null,
   "id": "0388469a-aca0-4d18-84ee-fc66ba197cd7",
   "metadata": {
    "tags": []
   },
   "outputs": [],
   "source": [
    "import os\n",
    "import pandas as pd\n",
    "import yaml"
   ]
  },
  {
   "cell_type": "markdown",
   "id": "d5050640-2513-4355-ba9a-0852670d1dd0",
   "metadata": {},
   "source": [
    "# check if notebook or script"
   ]
  },
  {
   "cell_type": "code",
   "execution_count": null,
   "id": "b99da8c1-e216-46e0-9259-c36d0cdd6158",
   "metadata": {},
   "outputs": [],
   "source": [
    "# Function to detect if we're running in a Jupyter notebook\n",
    "def check_if_notebook():\n",
    "    try:\n",
    "        shell_name = get_ipython().__class__.__name__\n",
    "        if shell_name == 'ZMQInteractiveShell':\n",
    "            return True   # Jupyter notebook or JupyterLab\n",
    "        elif shell_name in ['TerminalInteractiveShell', 'InteractiveShell']:\n",
    "            return False  # IPython terminal or other interactive shells\n",
    "        else:\n",
    "            # Fallback or default behavior for unidentified environments\n",
    "            return False\n",
    "    except NameError:\n",
    "        return False      # Not in IPython, likely standard Python interpreter\n",
    "\n",
    "# Use this to conditionally execute tests/debugging\n",
    "if check_if_notebook():\n",
    "    is_notebook = True\n",
    "else:\n",
    "    is_notebook = False"
   ]
  },
  {
   "cell_type": "markdown",
   "id": "247bbdf7-dd45-4be8-a4ed-a87c4d95134c",
   "metadata": {},
   "source": [
    "# Define all filepaths"
   ]
  },
  {
   "cell_type": "markdown",
   "id": "57255716-d7c8-4aea-beeb-45d7c296c37b",
   "metadata": {},
   "source": [
    "## filepaths for opening input data for creation of md"
   ]
  },
  {
   "cell_type": "code",
   "execution_count": null,
   "id": "95be9f08-db6b-4821-b81e-b57c6ed4024c",
   "metadata": {},
   "outputs": [],
   "source": [
    "# go up until we are in the project base directory\n",
    "base_dir = os.getcwd()\n",
    "while base_dir.split('/')[-1] != 'goodbye_glaciers':\n",
    "    base_dir = os.path.normpath(os.path.join(base_dir, '..'))\n",
    "\n",
    "fp_glacier_yml = os.path.join(base_dir, 'add_new_content', 'add_new_glacier', 'glacier_yml_files')\n",
    "fp_photo_yml = os.path.join(base_dir, 'add_new_content', 'add_new_photo', 'glacier_photos_yml_files')\n",
    "deglac_csv_file = os.path.join(base_dir, 'add_new_content', 'add_new_glacier', 'glacier_data_deglaciation.csv')\n",
    "fp_signpost_yml = os.path.join(base_dir, 'add_new_content', 'add_new_signpost', 'signpost_yml_files')"
   ]
  },
  {
   "cell_type": "code",
   "execution_count": null,
   "id": "69c92fac-fd5e-4f3a-9035-cb6b7bf746a5",
   "metadata": {},
   "outputs": [],
   "source": [
    "def get_all_glacier_yml(fp=fp_glacier_yml):\n",
    "    return [file for file in os.listdir(fp)\n",
    "            if file.split('.')[-1] == 'yml']"
   ]
  },
  {
   "cell_type": "code",
   "execution_count": null,
   "id": "a5f0a7ba-2402-44a3-b5d8-7e62cbb4ab2b",
   "metadata": {},
   "outputs": [],
   "source": [
    "def read_yml(fp):\n",
    "    with open(fp) as stream:\n",
    "        yml_content = yaml.safe_load(stream)\n",
    "    return yml_content"
   ]
  },
  {
   "cell_type": "code",
   "execution_count": null,
   "id": "a78cdf6d-e9c6-4b4a-a736-019a38cea917",
   "metadata": {},
   "outputs": [],
   "source": [
    "def check_file_exist(fp, rgi_id):\n",
    "    fp_total = f\"{base_dir}{fp}\"\n",
    "    if not os.path.exists(fp_total):\n",
    "        print(f'{rgi_id}: {fp} does not exist!')"
   ]
  },
  {
   "cell_type": "markdown",
   "id": "394db609-c78a-48a9-817a-af274486060c",
   "metadata": {},
   "source": [
    "## filepaths used when deploying the website"
   ]
  },
  {
   "cell_type": "code",
   "execution_count": null,
   "id": "ac30afcf-2f4a-4cca-a160-7c8b8e7e14d1",
   "metadata": {},
   "outputs": [],
   "source": [
    "fp_glacier_volume = '/assets/images/volume_evolution_glaciers/'\n",
    "fp_glacier_animations = '/assets/videos/glacier_animations/'\n",
    "fp_glacier_photos = '/assets/images/photos_glaciers/'\n",
    "fp_glacier_md = os.path.join(base_dir, '_glaciers')"
   ]
  },
  {
   "cell_type": "markdown",
   "id": "95e61dba-ec26-4b9f-9d68-c486e30f5b79",
   "metadata": {},
   "source": [
    "# Open data needed by all"
   ]
  },
  {
   "cell_type": "code",
   "execution_count": null,
   "id": "f3bae4fd-c549-47a9-9ada-313f0f058f57",
   "metadata": {},
   "outputs": [],
   "source": [
    "df_deglac = pd.read_csv(deglac_csv_file, index_col=0)"
   ]
  },
  {
   "cell_type": "markdown",
   "id": "dbcee81e-0ae4-454b-95dd-8f14812c0475",
   "metadata": {},
   "source": [
    "# Function creating glacier markdown sites"
   ]
  },
  {
   "cell_type": "code",
   "execution_count": null,
   "id": "3f934308-0564-470b-9d27-47e2707f5e2b",
   "metadata": {},
   "outputs": [],
   "source": [
    "def create_glacier_markdown(glacier_yml):\n",
    "\n",
    "    rgi_id = glacier_yml.replace('.yml', '')\n",
    "\n",
    "    # start creating markdown\n",
    "    markdown_content = \"---\\n\"\n",
    "    markdown_content += f\"rgi_id: {rgi_id}\\n\"\n",
    "\n",
    "    # add data from yml\n",
    "    glacier_yml_dict = read_yml(os.path.join(fp_glacier_yml, glacier_yml))\n",
    "    assert glacier_yml_dict['rgi_id'] == rgi_id, 'rgi_id check glacier yml file'\n",
    "    markdown_content += f\"title: {glacier_yml_dict['name']}\\n\"\n",
    "    markdown_content += f\"country: {glacier_yml_dict['country']}\\n\"\n",
    "\n",
    "    # add data from csv\n",
    "    try:\n",
    "        rgi_id_csv = df_deglac.loc[rgi_id]\n",
    "    except KeyError:\n",
    "        raise KeyError(f'{rgi_id} not included in glacier_data_deglaciation.csv!')\n",
    "    for csv_var in ['CenLon', 'CenLat', 'vol2020_km3',\n",
    "                    'deglac_yr_2.7deg_10perc_q50',\n",
    "                    'deglac_yr_2.7deg_10perc_q17',\n",
    "                    'deglac_yr_2.7deg_10perc_q83',\n",
    "                    'deglac_yr_1.5deg_10perc_q50',\n",
    "                    'deglac_yr_1.5deg_10perc_q17',\n",
    "                    'deglac_yr_1.5deg_10perc_q83']:\n",
    "        markdown_content += f\"{csv_var.replace('.', '_')}: {rgi_id_csv[csv_var]}\\n\"\n",
    "\n",
    "    # add volume evolution curves\n",
    "    fp_file = f\"{fp_glacier_volume}{rgi_id}_simple_en.png\"\n",
    "    check_file_exist(fp_file, rgi_id)\n",
    "    markdown_content += f\"volume_evolution_simple: {fp_file}\\n\"\n",
    "    fp_file = f\"{fp_glacier_volume}{rgi_id}_complex_en.png\"\n",
    "    check_file_exist(fp_file, rgi_id)\n",
    "    markdown_content += f\"volume_evolution_complex: {fp_file}\\n\"\n",
    "\n",
    "    # add 3d animations\n",
    "    fp_file = f\"{fp_glacier_animations}{rgi_id}_simple_en.mp4\"\n",
    "    check_file_exist(fp_file, rgi_id)\n",
    "    markdown_content += f\"animation_simple: {fp_file}\\n\"\n",
    "    fp_file = f\"{fp_glacier_animations}{rgi_id}_complex_en.mp4\"\n",
    "    check_file_exist(fp_file, rgi_id)\n",
    "    markdown_content += f\"animation_complex: {fp_file}\\n\"\n",
    "\n",
    "    # add photos\n",
    "    photo_yml_dict = read_yml(os.path.join(fp_photo_yml, f'{rgi_id}_photos.yml'))\n",
    "    markdown_content += f\"gallery:\\n\"\n",
    "    # find main photo\n",
    "    main_photo = None\n",
    "    for photo in photo_yml_dict:\n",
    "        if photo == 'rgi_id':\n",
    "            assert photo_yml_dict['rgi_id'] == rgi_id, 'rgi_id check photo yml file'\n",
    "            continue\n",
    "        elif photo_yml_dict[photo]['is_main_photo']:\n",
    "            if main_photo is not None:\n",
    "                raise ValueError(f\"Main photo already defined as {main_photo}, \"\n",
    "                                 f\"but {photo} also wants to become main photo!\")\n",
    "            main_photo = photo\n",
    "\n",
    "        # add photo to gallery\n",
    "        image_path = f\"{fp_glacier_photos}{photo_yml_dict[photo]['filename']}\"\n",
    "        check_file_exist(image_path, rgi_id)\n",
    "        markdown_content += f\"  - url: {image_path}\\n\"\n",
    "        markdown_content += f\"    image_path: {image_path}\\n\"\n",
    "        photo_credit = (f\"Photo credit: {photo_yml_dict[photo]['photographer_name']}, \"\n",
    "                        f\"{photo_yml_dict[photo]['photo_date']}\")\n",
    "        markdown_content += f'    alt: \"{photo_credit}\"\\n'\n",
    "        markdown_content += f'    title: \"{photo_credit}\"\\n'\n",
    "\n",
    "    filename_main_photo = f\"{fp_glacier_photos}{photo_yml_dict[main_photo]['filename']}\"\n",
    "    main_photo_credit = (f\"Photo credit: {photo_yml_dict[main_photo]['photographer_name']}, \"\n",
    "                         f\"{photo_yml_dict[main_photo]['photo_date']}\")\n",
    "    markdown_content += f\"main_photo: {filename_main_photo}\\n\"\n",
    "    markdown_content += \"header:\\n\"\n",
    "    markdown_content += f\"  overlay_image: {filename_main_photo}\\n\"\n",
    "    markdown_content += f\"  teaser: {filename_main_photo}\\n\"\n",
    "    markdown_content += f'  caption: \"{main_photo_credit}\"\\n'\n",
    "\n",
    "    # add signposts to glacier\n",
    "    all_signpost_yml_files = get_all_glacier_yml(fp=fp_signpost_yml)\n",
    "    featured_signposts = None\n",
    "    for signpost_file in all_signpost_yml_files:\n",
    "        signpost_yml_dict = read_yml(os.path.join(fp_signpost_yml, signpost_file))\n",
    "    \n",
    "        if rgi_id in signpost_yml_dict['glaciers']:\n",
    "            if featured_signposts is None:\n",
    "                featured_signposts = [signpost_yml_dict['signpost_id']]\n",
    "            else:\n",
    "                featured_signposts.append(signpost_yml_dict['signpost_id'])\n",
    "    if featured_signposts:\n",
    "        markdown_content += f\"signposts: {featured_signposts}\\n\"\n",
    "\n",
    "    # end file\n",
    "    markdown_content += \"---\\n\"\n",
    "\n",
    "    # add contant what is visible below the heading\n",
    "    markdown_content += \"Country: {{ page.country }}  <br>Mostly gone by {{ page.deglac_yr_2_7deg_10perc_q50 | floor }}\\n\"\n",
    "\n",
    "    # save markdown file\n",
    "    with open(os.path.join(fp_glacier_md, f\"{rgi_id}.md\"), 'w') as file:\n",
    "        file.write(markdown_content)\n",
    "    \n",
    "    print(f\"Markdown file {rgi_id} created.\")"
   ]
  },
  {
   "cell_type": "markdown",
   "id": "9ae841db-8086-4148-ad3c-4e6d2e109596",
   "metadata": {},
   "source": [
    "# Test for notebook"
   ]
  },
  {
   "cell_type": "code",
   "execution_count": null,
   "id": "7706e1d4-8179-4198-90e2-d3ceac83e369",
   "metadata": {},
   "outputs": [],
   "source": [
    "if is_notebook:\n",
    "    glacier_yml = get_all_glacier_yml()[0]\n",
    "\n",
    "    create_glacier_markdown(glacier_yml)"
   ]
  },
  {
   "cell_type": "markdown",
   "id": "b2b85ba8-7177-468b-be05-d07adb17ac8b",
   "metadata": {},
   "source": [
    "# Run all"
   ]
  },
  {
   "cell_type": "code",
   "execution_count": null,
   "id": "d92dec73-cb02-4c61-98e8-76c3d0d7b09e",
   "metadata": {},
   "outputs": [],
   "source": [
    "for glacier_yml in get_all_glacier_yml():\n",
    "    try:\n",
    "        create_glacier_markdown(glacier_yml)\n",
    "    except Exception as error:\n",
    "        print(f\"{glacier_yml} not working, error: {error}\")"
   ]
  },
  {
   "cell_type": "code",
   "execution_count": null,
   "id": "5199e9e5-b988-46b5-a6ea-13589f89c8fa",
   "metadata": {},
   "outputs": [],
   "source": []
  }
 ],
 "metadata": {
  "jupytext": {
   "formats": "ipynb,auto:light"
  },
  "kernelspec": {
   "display_name": "Python 3 (ipykernel)",
   "language": "python",
   "name": "python3"
  },
  "language_info": {
   "codemirror_mode": {
    "name": "ipython",
    "version": 3
   },
   "file_extension": ".py",
   "mimetype": "text/x-python",
   "name": "python",
   "nbconvert_exporter": "python",
   "pygments_lexer": "ipython3",
   "version": "3.10.16"
  }
 },
 "nbformat": 4,
 "nbformat_minor": 5
}
